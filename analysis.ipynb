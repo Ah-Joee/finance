{
 "cells": [
  {
   "cell_type": "code",
   "execution_count": 1,
   "metadata": {},
   "outputs": [],
   "source": [
    "import yfinance as yf"
   ]
  },
  {
   "cell_type": "code",
   "execution_count": 5,
   "metadata": {},
   "outputs": [
    {
     "name": "stderr",
     "output_type": "stream",
     "text": [
      "[*********************100%%**********************]  1 of 1 completed\n"
     ]
    },
    {
     "data": {
      "text/html": [
       "<div>\n",
       "<style scoped>\n",
       "    .dataframe tbody tr th:only-of-type {\n",
       "        vertical-align: middle;\n",
       "    }\n",
       "\n",
       "    .dataframe tbody tr th {\n",
       "        vertical-align: top;\n",
       "    }\n",
       "\n",
       "    .dataframe thead th {\n",
       "        text-align: right;\n",
       "    }\n",
       "</style>\n",
       "<table border=\"1\" class=\"dataframe\">\n",
       "  <thead>\n",
       "    <tr style=\"text-align: right;\">\n",
       "      <th></th>\n",
       "      <th>Open</th>\n",
       "      <th>High</th>\n",
       "      <th>Low</th>\n",
       "      <th>Close</th>\n",
       "      <th>Adj Close</th>\n",
       "      <th>Volume</th>\n",
       "    </tr>\n",
       "    <tr>\n",
       "      <th>Date</th>\n",
       "      <th></th>\n",
       "      <th></th>\n",
       "      <th></th>\n",
       "      <th></th>\n",
       "      <th></th>\n",
       "      <th></th>\n",
       "    </tr>\n",
       "  </thead>\n",
       "  <tbody>\n",
       "    <tr>\n",
       "      <th>2024-06-27</th>\n",
       "      <td>831.010010</td>\n",
       "      <td>892.780029</td>\n",
       "      <td>825.619995</td>\n",
       "      <td>890.359985</td>\n",
       "      <td>890.359985</td>\n",
       "      <td>7151300</td>\n",
       "    </tr>\n",
       "    <tr>\n",
       "      <th>2024-06-28</th>\n",
       "      <td>899.000000</td>\n",
       "      <td>899.880005</td>\n",
       "      <td>815.200012</td>\n",
       "      <td>819.349976</td>\n",
       "      <td>819.349976</td>\n",
       "      <td>16505900</td>\n",
       "    </tr>\n",
       "    <tr>\n",
       "      <th>2024-07-01</th>\n",
       "      <td>831.440002</td>\n",
       "      <td>832.000000</td>\n",
       "      <td>773.809998</td>\n",
       "      <td>812.320007</td>\n",
       "      <td>812.320007</td>\n",
       "      <td>7123000</td>\n",
       "    </tr>\n",
       "    <tr>\n",
       "      <th>2024-07-02</th>\n",
       "      <td>799.400024</td>\n",
       "      <td>850.919983</td>\n",
       "      <td>796.289978</td>\n",
       "      <td>837.169983</td>\n",
       "      <td>837.169983</td>\n",
       "      <td>5493600</td>\n",
       "    </tr>\n",
       "    <tr>\n",
       "      <th>2024-07-03</th>\n",
       "      <td>837.190002</td>\n",
       "      <td>857.190002</td>\n",
       "      <td>821.010010</td>\n",
       "      <td>847.000000</td>\n",
       "      <td>847.000000</td>\n",
       "      <td>3197900</td>\n",
       "    </tr>\n",
       "  </tbody>\n",
       "</table>\n",
       "</div>"
      ],
      "text/plain": [
       "                  Open        High         Low       Close   Adj Close  \\\n",
       "Date                                                                     \n",
       "2024-06-27  831.010010  892.780029  825.619995  890.359985  890.359985   \n",
       "2024-06-28  899.000000  899.880005  815.200012  819.349976  819.349976   \n",
       "2024-07-01  831.440002  832.000000  773.809998  812.320007  812.320007   \n",
       "2024-07-02  799.400024  850.919983  796.289978  837.169983  837.169983   \n",
       "2024-07-03  837.190002  857.190002  821.010010  847.000000  847.000000   \n",
       "\n",
       "              Volume  \n",
       "Date                  \n",
       "2024-06-27   7151300  \n",
       "2024-06-28  16505900  \n",
       "2024-07-01   7123000  \n",
       "2024-07-02   5493600  \n",
       "2024-07-03   3197900  "
      ]
     },
     "execution_count": 5,
     "metadata": {},
     "output_type": "execute_result"
    }
   ],
   "source": [
    "data = yf.download('SMCI', period='5d')\n",
    "data"
   ]
  },
  {
   "cell_type": "code",
   "execution_count": null,
   "metadata": {},
   "outputs": [],
   "source": []
  }
 ],
 "metadata": {
  "kernelspec": {
   "display_name": "xai",
   "language": "python",
   "name": "python3"
  },
  "language_info": {
   "codemirror_mode": {
    "name": "ipython",
    "version": 3
   },
   "file_extension": ".py",
   "mimetype": "text/x-python",
   "name": "python",
   "nbconvert_exporter": "python",
   "pygments_lexer": "ipython3",
   "version": "3.10.13"
  }
 },
 "nbformat": 4,
 "nbformat_minor": 2
}
